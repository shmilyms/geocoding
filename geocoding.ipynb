{
 "cells": [
  {
   "cell_type": "code",
   "execution_count": 1,
   "metadata": {},
   "outputs": [],
   "source": [
    "import requests"
   ]
  },
  {
   "cell_type": "code",
   "execution_count": 63,
   "metadata": {},
   "outputs": [],
   "source": [
    "benchmarks = ['Public_AR_Current', 'Public_AR_ACS2017', 'Public_AR_Census2010']\n",
    "vintages = {'Public_AR_Current':\n",
    "                   ['Current_Current',\n",
    "                    'Census2010_Current',\n",
    "                    'ACS2013_Current',\n",
    "                    'ACS2014_Current',\n",
    "                    'ACS2015_Current',\n",
    "                    'ACS2016_Current',\n",
    "                    'ACS2017_Current',\n",
    "                    'ACS2018_Current'],\n",
    "            'Public_AR_ACS2017':\n",
    "                   ['Current_ACS2018',\n",
    "                    'Census2010_ACS2018',\n",
    "                    'ACS2013_ACS2018',\n",
    "                    'ACS2014_ACS2018',\n",
    "                    'ACS2015_ACS2018',\n",
    "                    'ACS2016_ACS2018',\n",
    "                    'ACS2017_ACS2018',\n",
    "                    'ACS2018_ACS2018'],\n",
    "            'Public_AR_Census2010':['Census2010_Census2010','Census2000_Census2010']\n",
    "           }\n",
    "returntypes=['locations','geographies']\n",
    "searchtypes=['onelineaddress','address','coordinates']\n",
    "\n",
    "class GeocodingParser():\n",
    "    def __init__(self,benchmark=None,vintage=None):\n",
    "        self._url = \"https://geocoding.geo.census.gov/geocoder/{returntype}/{searchtype}\"\n",
    "        self.benchmark=benchmark if benchmark else benchmarks[0]\n",
    "        self.vintage=vintage if vintage else vintages[benchmarks[0]][0]\n",
    "        self.response=None\n",
    "        \n",
    "    def get_benchmarks():\n",
    "        return benchmarks.copy()\n",
    "    \n",
    "    def get_vintages(benchmark=None):\n",
    "        if not benchmark or not benchmark in benchmarks:\n",
    "            return vintages[benchmarks[0]].copy()\n",
    "        else:\n",
    "            return vintages[benchmark].copy()\n",
    "        \n",
    "    def search_street(self,address,geo=False,**kwargs):\n",
    "        '''        https://geocoding.geo.census.gov/geocoder/locations/address?street=4600+Silver+Hill+Rd&\n",
    "                    city=Suitland&state=MD&zip=20746&benchmark=Public_AR_Census2010&format=json'''\n",
    "        params={**self._get_params(),**kwargs,'street':address}\n",
    "        return self._get_response('locations' if not geo else 'geographies','address',params)\n",
    "    \n",
    "    def search_onelineaddress(self,geo=False):\n",
    "        params={**self._get_params(),'address':address}\n",
    "        return self._get_response('locations' if not geo else 'geographies','onelineaddress',params)\n",
    "    \n",
    "    def _get_params(self):\n",
    "        return {'format':'json','benchmark':self.benchmark,'vintage':self.vintage}\n",
    "    \n",
    "    def _get_response(self,returntype,searchtype,params):\n",
    "        content=None\n",
    "        with requests.get(self._url.format(returntype=returntype,searchtype=searchtype), params=params) as r:\n",
    "            content = r.json()\n",
    "            #print(r.url)\n",
    "        self.response = content['result']\n",
    "        return self.response\n",
    "    \n",
    "    def get_matches(self):\n",
    "        return self._get_self_response()['addressMatches']\n",
    "    \n",
    "    def get_params(self):\n",
    "        return self._get_self_response()['input']\n",
    "    \n",
    "    def get_first(self):\n",
    "        return self.get_matches()[0]\n",
    "    \n",
    "    def get_first_coordinates(self):\n",
    "        return self.get_first()['coordinates']\n",
    "    \n",
    "    def get_first_geoid(self):\n",
    "        geographies = self.get_first()['geographies']\n",
    "        for k in geographies.keys():\n",
    "            if 'Census' in k:\n",
    "                break\n",
    "        return geographies[k][0]['GEOID']\n",
    "    \n",
    "    def _get_self_response(self):\n",
    "        if self.response:\n",
    "            return self.response\n",
    "        else:\n",
    "            raise Exception('No response available.')"
   ]
  },
  {
   "cell_type": "code",
   "execution_count": 64,
   "metadata": {},
   "outputs": [
    {
     "data": {
      "text/plain": [
       "'360550130011008'"
      ]
     },
     "execution_count": 64,
     "metadata": {},
     "output_type": "execute_result"
    }
   ],
   "source": [
    "gp=GeocodingParser()\n",
    "gp.search_street('387 Quinby Road',city='Rochester',state='NY',zip=14623,geo=True)\n",
    "gp.get_first_geoid()"
   ]
  },
  {
   "cell_type": "code",
   "execution_count": 30,
   "metadata": {},
   "outputs": [],
   "source": [
    "import censusgeocode as cg"
   ]
  },
  {
   "cell_type": "code",
   "execution_count": 32,
   "metadata": {},
   "outputs": [
    {
     "data": {
      "text/plain": [
       "[{'matchedAddress': '323 QUINBY RD, ROCHESTER, NY, 14623',\n",
       "  'coordinates': {'x': -77.636536, 'y': 43.108227},\n",
       "  'tigerLine': {'tigerLineId': '14535048', 'side': 'R'},\n",
       "  'addressComponents': {'fromAddress': '201',\n",
       "   'toAddress': '599',\n",
       "   'preQualifier': '',\n",
       "   'preDirection': '',\n",
       "   'preType': '',\n",
       "   'streetName': 'QUINBY',\n",
       "   'suffixType': 'RD',\n",
       "   'suffixDirection': '',\n",
       "   'suffixQualifier': '',\n",
       "   'city': 'ROCHESTER',\n",
       "   'state': 'NY',\n",
       "   'zip': '14623'},\n",
       "  'geographies': {'2010 Census Blocks': [{'SUFFIX': '',\n",
       "     'GEOID': '360550130011008',\n",
       "     'CENTLAT': '+43.1087162',\n",
       "     'BLOCK': '1008',\n",
       "     'AREAWATER': 0,\n",
       "     'STATE': '36',\n",
       "     'BASENAME': '1008',\n",
       "     'OID': 210404043193119,\n",
       "     'LSADC': 'BK',\n",
       "     'FUNCSTAT': 'S',\n",
       "     'INTPTLAT': '+43.1087162',\n",
       "     'STGEOMETRY.AREA': 2266718.2,\n",
       "     'STGEOMETRY.LEN': 7373.405,\n",
       "     'NAME': 'Block 1008',\n",
       "     'OBJECTID': 5125035,\n",
       "     'TRACT': '013001',\n",
       "     'CENTLON': '-077.6340639',\n",
       "     'BLKGRP': '1',\n",
       "     'AREALAND': 1207585,\n",
       "     'INTPTLON': '-077.6340639',\n",
       "     'MTFCC': 'G5040',\n",
       "     'LWBLKTYP': 'L',\n",
       "     'COUNTY': '055'}],\n",
       "   'States': [{'STATENS': '01779796',\n",
       "     'GEOID': '36',\n",
       "     'CENTLAT': '+42.9197932',\n",
       "     'AREAWATER': 19247166888,\n",
       "     'BASENAME': 'New York',\n",
       "     'STATE': '36',\n",
       "     'STUSAB': 'NY',\n",
       "     'OID': 27490100833860,\n",
       "     'LSADC': '00',\n",
       "     'FUNCSTAT': 'A',\n",
       "     'INTPTLAT': '+42.9133974',\n",
       "     'DIVISION': '2',\n",
       "     'STGEOMETRY.AREA': 263768982000.0,\n",
       "     'STGEOMETRY.LEN': 3212606.5,\n",
       "     'NAME': 'New York',\n",
       "     'REGION': '1',\n",
       "     'OBJECTID': 39,\n",
       "     'CENTLON': '-075.5942811',\n",
       "     'AREALAND': 122048977558,\n",
       "     'INTPTLON': '-075.5962723',\n",
       "     'MTFCC': 'G4000'}],\n",
       "   'Counties': [{'GEOID': '36055',\n",
       "     'CENTLAT': '+43.3087245',\n",
       "     'AREAWATER': 1838454273,\n",
       "     'BASENAME': 'Monroe',\n",
       "     'STATE': '36',\n",
       "     'OID': 27590104596909,\n",
       "     'LSADC': '06',\n",
       "     'FUNCSTAT': 'A',\n",
       "     'INTPTLAT': '+43.4644839',\n",
       "     'STGEOMETRY.AREA': 6687940100.0,\n",
       "     'STGEOMETRY.LEN': 365631.56,\n",
       "     'NAME': 'Monroe County',\n",
       "     'OBJECTID': 2075,\n",
       "     'CENTLON': '-077.6801146',\n",
       "     'COUNTYCC': 'H1',\n",
       "     'COUNTYNS': '00974126',\n",
       "     'AREALAND': 1701292239,\n",
       "     'INTPTLON': '-077.6646584',\n",
       "     'MTFCC': 'G4020',\n",
       "     'COUNTY': '055'}],\n",
       "   'Census Tracts': [{'GEOID': '36055013001',\n",
       "     'CENTLAT': '+43.1036403',\n",
       "     'AREAWATER': 385419,\n",
       "     'BASENAME': '130.01',\n",
       "     'STATE': '36',\n",
       "     'OID': 20790104630952,\n",
       "     'LSADC': 'CT',\n",
       "     'FUNCSTAT': 'S',\n",
       "     'INTPTLAT': '+43.0985908',\n",
       "     'STGEOMETRY.AREA': 30813450.0,\n",
       "     'STGEOMETRY.LEN': 35613.375,\n",
       "     'NAME': 'Census Tract 130.01',\n",
       "     'OBJECTID': 31560,\n",
       "     'TRACT': '013001',\n",
       "     'CENTLON': '-077.6236708',\n",
       "     'AREALAND': 16032923,\n",
       "     'INTPTLON': '-077.6251650',\n",
       "     'MTFCC': 'G5020',\n",
       "     'COUNTY': '055'}]}}]"
      ]
     },
     "execution_count": 32,
     "metadata": {},
     "output_type": "execute_result"
    }
   ],
   "source": [
    "cg.address('323 Quinby Road',city='Rochester',state='NY',zip=14623)"
   ]
  },
  {
   "cell_type": "code",
   "execution_count": 6,
   "metadata": {},
   "outputs": [
    {
     "data": {
      "text/plain": [
       "['Current_ACS2018',\n",
       " 'Census2010_ACS2018',\n",
       " 'ACS2013_ACS2018',\n",
       " 'ACS2014_ACS2018',\n",
       " 'ACS2015_ACS2018',\n",
       " 'ACS2016_ACS2018',\n",
       " 'ACS2017_ACS2018',\n",
       " 'ACS2018_ACS2018']"
      ]
     },
     "execution_count": 6,
     "metadata": {},
     "output_type": "execute_result"
    }
   ],
   "source": [
    "GeocodingParser.get_vintages('Public_AR_ACS2017')"
   ]
  },
  {
   "cell_type": "code",
   "execution_count": 7,
   "metadata": {},
   "outputs": [
    {
     "ename": "TypeError",
     "evalue": "unsupported operand type(s) for +: 'dict' and 'dict'",
     "output_type": "error",
     "traceback": [
      "\u001b[1;31m---------------------------------------------------------------------------\u001b[0m",
      "\u001b[1;31mTypeError\u001b[0m                                 Traceback (most recent call last)",
      "\u001b[1;32m<ipython-input-7-4edf397d2828>\u001b[0m in \u001b[0;36m<module>\u001b[1;34m()\u001b[0m\n\u001b[1;32m----> 1\u001b[1;33m \u001b[1;33m{\u001b[0m\u001b[1;36m1\u001b[0m\u001b[1;33m:\u001b[0m\u001b[1;36m2\u001b[0m\u001b[1;33m,\u001b[0m\u001b[1;36m3\u001b[0m\u001b[1;33m:\u001b[0m\u001b[1;36m4\u001b[0m\u001b[1;33m}\u001b[0m\u001b[1;33m+\u001b[0m\u001b[1;33m{\u001b[0m\u001b[1;36m7\u001b[0m\u001b[1;33m:\u001b[0m\u001b[1;36m8\u001b[0m\u001b[1;33m}\u001b[0m\u001b[1;33m\u001b[0m\u001b[0m\n\u001b[0m",
      "\u001b[1;31mTypeError\u001b[0m: unsupported operand type(s) for +: 'dict' and 'dict'"
     ]
    }
   ],
   "source": [
    "{1:2,3:4}+{7:8}"
   ]
  },
  {
   "cell_type": "code",
   "execution_count": 43,
   "metadata": {},
   "outputs": [
    {
     "data": {
      "text/plain": [
       "True"
      ]
     },
     "execution_count": 43,
     "metadata": {},
     "output_type": "execute_result"
    }
   ],
   "source": [
    "'Census' in '12312Census 31231'"
   ]
  },
  {
   "cell_type": "code",
   "execution_count": null,
   "metadata": {},
   "outputs": [],
   "source": []
  },
  {
   "cell_type": "code",
   "execution_count": null,
   "metadata": {},
   "outputs": [],
   "source": []
  },
  {
   "cell_type": "code",
   "execution_count": null,
   "metadata": {},
   "outputs": [],
   "source": []
  }
 ],
 "metadata": {
  "kernelspec": {
   "display_name": "Python 3",
   "language": "python",
   "name": "python3"
  },
  "language_info": {
   "codemirror_mode": {
    "name": "ipython",
    "version": 3
   },
   "file_extension": ".py",
   "mimetype": "text/x-python",
   "name": "python",
   "nbconvert_exporter": "python",
   "pygments_lexer": "ipython3",
   "version": "3.6.5"
  }
 },
 "nbformat": 4,
 "nbformat_minor": 2
}
