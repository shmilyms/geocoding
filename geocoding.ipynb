{
 "cells": [
  {
   "cell_type": "code",
   "execution_count": 2,
   "metadata": {},
   "outputs": [],
   "source": [
    "import requests"
   ]
  },
  {
   "cell_type": "code",
   "execution_count": 3,
   "metadata": {},
   "outputs": [],
   "source": [
    "benchmarks = ['Public_AR_Current', 'Public_AR_ACS2017', 'Public_AR_Census2010']\n",
    "vintages = {'Public_AR_Current':\n",
    "                   ['Current_Current',\n",
    "                    'Census2010_Current',\n",
    "                    'ACS2013_Current',\n",
    "                    'ACS2014_Current',\n",
    "                    'ACS2015_Current',\n",
    "                    'ACS2016_Current',\n",
    "                    'ACS2017_Current',\n",
    "                    'ACS2018_Current'],\n",
    "            'Public_AR_ACS2017':\n",
    "                   ['Current_ACS2018',\n",
    "                    'Census2010_ACS2018',\n",
    "                    'ACS2013_ACS2018',\n",
    "                    'ACS2014_ACS2018',\n",
    "                    'ACS2015_ACS2018',\n",
    "                    'ACS2016_ACS2018',\n",
    "                    'ACS2017_ACS2018',\n",
    "                    'ACS2018_ACS2018'],\n",
    "            'Public_AR_Census2010':['Census2010_Census2010','Census2000_Census2010']\n",
    "           }\n",
    "returntypes=['locations','geographies']\n",
    "searchtypes=['onelineaddress','address','coordinates']\n",
    "\n",
    "class GeocodingParser():\n",
    "    def __init__(self,benchmark=None,vintage=None):\n",
    "        self._url = \"https://geocoding.geo.census.gov/geocoder/{returntype}/{searchtype}\"\n",
    "        self.benchmark=benchmark if benchmark else benchmarks[0]\n",
    "        self.vintage=vintage if vintage else vintages[benchmarks[0]][0]\n",
    "        self.response=None\n",
    "        \n",
    "    def get_benchmarks():\n",
    "        return benchmarks.copy()\n",
    "    \n",
    "    def get_vintages(benchmark=None):\n",
    "        if not benchmark or not benchmark in benchmarks:\n",
    "            return vintages[benchmarks[0]].copy()\n",
    "        else:\n",
    "            return vintages[benchmark].copy()\n",
    "        \n",
    "    def search_street(self,address,geo=False,**kwargs):\n",
    "        '''        https://geocoding.geo.census.gov/geocoder/locations/address?street=4600+Silver+Hill+Rd&\n",
    "                    city=Suitland&state=MD&zip=20746&benchmark=Public_AR_Census2010&format=json'''\n",
    "        params={**self._get_params(),**kwargs,'street':address}\n",
    "        return self._get_response('locations' if not geo else 'geographies','address',params)\n",
    "    \n",
    "    def search_onelineaddress(self,geo=False):\n",
    "        params={**self._get_params(),'address':address}\n",
    "        return self._get_response('locations' if not geo else 'geographies','onelineaddress',params)\n",
    "    \n",
    "    def _get_params(self):\n",
    "        return {'format':'json','benchmark':self.benchmark,'vintage':self.vintage}\n",
    "    \n",
    "    def _get_response(self,returntype,searchtype,params):\n",
    "        content=None\n",
    "        with requests.get(self._url.format(returntype=returntype,searchtype=searchtype), params=params) as r:\n",
    "            content = r.json()\n",
    "            #print(r.url)\n",
    "        self.response = content['result']\n",
    "        return self.response\n",
    "    \n",
    "    def get_matches(self):\n",
    "        return self._get_self_response()['addressMatches']\n",
    "    \n",
    "    def get_params(self):\n",
    "        return self._get_self_response()['input']\n",
    "    \n",
    "    def get_first(self):\n",
    "        return self.get_matches()[0]\n",
    "    \n",
    "    def get_first_coordinates(self):\n",
    "        return self.get_first()['coordinates']\n",
    "    \n",
    "    def get_first_geoid(self):\n",
    "        geographies = self.get_first()['geographies']\n",
    "        for k in geographies.keys():\n",
    "            if 'Census' in k:\n",
    "                break\n",
    "        return geographies[k][0]['GEOID']\n",
    "    \n",
    "    def _get_self_response(self):\n",
    "        if self.response:\n",
    "            return self.response\n",
    "        else:\n",
    "            raise Exception('No response available.')"
   ]
  },
  {
   "cell_type": "code",
   "execution_count": 7,
   "metadata": {},
   "outputs": [
    {
     "data": {
      "text/plain": [
       "'360550130011008'"
      ]
     },
     "execution_count": 7,
     "metadata": {},
     "output_type": "execute_result"
    }
   ],
   "source": [
    "gp=GeocodingParser()\n",
    "gp.search_street('323 Quinby Road',city='Rochester',state='NY',zip=14623,geo=True)\n",
    "gp.get_first_geoid()"
   ]
  },
  {
   "cell_type": "code",
   "execution_count": 8,
   "metadata": {},
   "outputs": [
    {
     "data": {
      "text/plain": [
       "{'input': {'benchmark': {'id': '4',\n",
       "   'benchmarkName': 'Public_AR_Current',\n",
       "   'benchmarkDescription': 'Public Address Ranges - Current Benchmark',\n",
       "   'isDefault': False},\n",
       "  'address': {'street': '323 Quinby Road',\n",
       "   'city': 'Rochester',\n",
       "   'state': 'NY',\n",
       "   'zip': '14623'}},\n",
       " 'addressMatches': [{'matchedAddress': '323 QUINBY RD, ROCHESTER, NY, 14623',\n",
       "   'coordinates': {'x': -77.636536, 'y': 43.108227},\n",
       "   'tigerLine': {'tigerLineId': '14535048', 'side': 'R'},\n",
       "   'addressComponents': {'fromAddress': '201',\n",
       "    'toAddress': '599',\n",
       "    'preQualifier': '',\n",
       "    'preDirection': '',\n",
       "    'preType': '',\n",
       "    'streetName': 'QUINBY',\n",
       "    'suffixType': 'RD',\n",
       "    'suffixDirection': '',\n",
       "    'suffixQualifier': '',\n",
       "    'city': 'ROCHESTER',\n",
       "    'state': 'NY',\n",
       "    'zip': '14623'}}]}"
      ]
     },
     "execution_count": 8,
     "metadata": {},
     "output_type": "execute_result"
    }
   ],
   "source": [
    "gp.search_street('323 Quinby Road',city='Rochester',state='NY',zip=14623)"
   ]
  },
  {
   "cell_type": "code",
   "execution_count": 6,
   "metadata": {},
   "outputs": [
    {
     "data": {
      "text/plain": [
       "['Current_ACS2018',\n",
       " 'Census2010_ACS2018',\n",
       " 'ACS2013_ACS2018',\n",
       " 'ACS2014_ACS2018',\n",
       " 'ACS2015_ACS2018',\n",
       " 'ACS2016_ACS2018',\n",
       " 'ACS2017_ACS2018',\n",
       " 'ACS2018_ACS2018']"
      ]
     },
     "execution_count": 6,
     "metadata": {},
     "output_type": "execute_result"
    }
   ],
   "source": [
    "GeocodingParser.get_vintages('Public_AR_ACS2017')"
   ]
  },
  {
   "cell_type": "code",
   "execution_count": null,
   "metadata": {},
   "outputs": [],
   "source": []
  },
  {
   "cell_type": "code",
   "execution_count": null,
   "metadata": {},
   "outputs": [],
   "source": []
  },
  {
   "cell_type": "code",
   "execution_count": null,
   "metadata": {},
   "outputs": [],
   "source": []
  },
  {
   "cell_type": "code",
   "execution_count": null,
   "metadata": {},
   "outputs": [],
   "source": []
  },
  {
   "cell_type": "code",
   "execution_count": null,
   "metadata": {},
   "outputs": [],
   "source": []
  }
 ],
 "metadata": {
  "kernelspec": {
   "display_name": "Python 3",
   "language": "python",
   "name": "python3"
  },
  "language_info": {
   "codemirror_mode": {
    "name": "ipython",
    "version": 3
   },
   "file_extension": ".py",
   "mimetype": "text/x-python",
   "name": "python",
   "nbconvert_exporter": "python",
   "pygments_lexer": "ipython3",
   "version": "3.6.5"
  }
 },
 "nbformat": 4,
 "nbformat_minor": 2
}
